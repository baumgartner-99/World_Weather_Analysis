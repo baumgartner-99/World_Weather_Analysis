{
 "cells": [
  {
   "cell_type": "code",
   "execution_count": 1,
   "id": "6c7825bc",
   "metadata": {},
   "outputs": [],
   "source": [
    "# Import the random module.\n",
    "import random"
   ]
  },
  {
   "cell_type": "code",
   "execution_count": 2,
   "id": "bfcc0d82",
   "metadata": {},
   "outputs": [
    {
     "data": {
      "text/plain": [
       "70"
      ]
     },
     "execution_count": 2,
     "metadata": {},
     "output_type": "execute_result"
    }
   ],
   "source": [
    "random.randint(-90,90)"
   ]
  },
  {
   "cell_type": "code",
   "execution_count": 3,
   "id": "890a70ee",
   "metadata": {},
   "outputs": [
    {
     "data": {
      "text/plain": [
       "0.6422156371867226"
      ]
     },
     "execution_count": 3,
     "metadata": {},
     "output_type": "execute_result"
    }
   ],
   "source": [
    "random.random()"
   ]
  },
  {
   "cell_type": "code",
   "execution_count": 4,
   "id": "2a4127c7",
   "metadata": {},
   "outputs": [
    {
     "data": {
      "text/plain": [
       "22.045427462813446"
      ]
     },
     "execution_count": 4,
     "metadata": {},
     "output_type": "execute_result"
    }
   ],
   "source": [
    "random_number = random.randint(-90, 89) + random.random()\n",
    "random_number"
   ]
  },
  {
   "cell_type": "code",
   "execution_count": 6,
   "id": "aa707d58",
   "metadata": {},
   "outputs": [
    {
     "data": {
      "text/plain": [
       "[-13.347510414724596,\n",
       " 18.212326296301512,\n",
       " 54.153181080887414,\n",
       " 66.51347468100013,\n",
       " 10.79060033819836,\n",
       " 29.258152470725683,\n",
       " 77.16850457216566,\n",
       " -74.07430972080279,\n",
       " 28.86767283253423,\n",
       " 54.91934032272624]"
      ]
     },
     "execution_count": 6,
     "metadata": {},
     "output_type": "execute_result"
    }
   ],
   "source": [
    "x = 1\n",
    "latitudes = []\n",
    "while x < 11:\n",
    "    random_lat = random.randint(-90, 89) + random.random()\n",
    "    latitudes.append(random_lat)\n",
    "    x += 1\n",
    "latitudes"
   ]
  },
  {
   "cell_type": "code",
   "execution_count": 7,
   "id": "0d541245",
   "metadata": {},
   "outputs": [
    {
     "data": {
      "text/plain": [
       "-6"
      ]
     },
     "execution_count": 7,
     "metadata": {},
     "output_type": "execute_result"
    }
   ],
   "source": [
    "random.randrange(-90, 90, step=1)"
   ]
  },
  {
   "cell_type": "code",
   "execution_count": 8,
   "id": "269c1d26",
   "metadata": {},
   "outputs": [
    {
     "data": {
      "text/plain": [
       "15"
      ]
     },
     "execution_count": 8,
     "metadata": {},
     "output_type": "execute_result"
    }
   ],
   "source": [
    "random.randrange(-90, 90, step=3)\n",
    "# will only produce multiples of 3"
   ]
  },
  {
   "cell_type": "code",
   "execution_count": 9,
   "id": "5693e251",
   "metadata": {},
   "outputs": [
    {
     "data": {
      "text/plain": [
       "19.392128973607782"
      ]
     },
     "execution_count": 9,
     "metadata": {},
     "output_type": "execute_result"
    }
   ],
   "source": [
    "random.uniform(-90, 90)"
   ]
  },
  {
   "cell_type": "code",
   "execution_count": 10,
   "id": "4efcf688",
   "metadata": {},
   "outputs": [],
   "source": [
    "import numpy as np\n",
    "# no need to import random if numpy has already been imported"
   ]
  },
  {
   "cell_type": "code",
   "execution_count": 11,
   "id": "76b1f9d0",
   "metadata": {},
   "outputs": [
    {
     "data": {
      "text/plain": [
       "71.35588012515694"
      ]
     },
     "execution_count": 11,
     "metadata": {},
     "output_type": "execute_result"
    }
   ],
   "source": [
    "np.random.uniform(-90.000, 90.000)"
   ]
  },
  {
   "cell_type": "code",
   "execution_count": 12,
   "id": "7d321ff3",
   "metadata": {},
   "outputs": [
    {
     "data": {
      "text/plain": [
       "array([-21.05604394, -73.41743004,  87.49867369,  29.06921325,\n",
       "        10.20899175,  82.38726557,  89.90872702,  46.381257  ,\n",
       "       -73.78893122, -60.84818958,   6.45687019,  53.40405347,\n",
       "        19.69386745,  20.74544461, -35.91537709, -56.46098376,\n",
       "       -43.57254755, -56.98968497,  67.00448777, -55.28168328,\n",
       "        29.94613412,  37.97110547,  72.2184583 ,  44.71015738,\n",
       "         1.39287609, -75.14192302,  46.58587994,  19.53873951,\n",
       "        54.78832514,  25.69264724, -62.10983438,  16.40405717,\n",
       "        46.23908576, -24.05736163, -49.69012141,  31.77032294,\n",
       "        20.98894502, -80.94694474, -39.17432831,  24.46019904,\n",
       "         3.31943462,  89.63646976,  87.17508074, -54.70741628,\n",
       "       -24.43914475,  69.44792691,  27.63317538,  56.55079679,\n",
       "        10.24143363,  62.23854709])"
      ]
     },
     "execution_count": 12,
     "metadata": {},
     "output_type": "execute_result"
    }
   ],
   "source": [
    "np.random.uniform(-90.000, 90.000, size=50)"
   ]
  },
  {
   "cell_type": "code",
   "execution_count": 13,
   "id": "26d1c58f",
   "metadata": {},
   "outputs": [],
   "source": [
    "import timeit\n",
    "# times how long a piece of code takes to run"
   ]
  },
  {
   "cell_type": "code",
   "execution_count": 15,
   "id": "2413883f",
   "metadata": {},
   "outputs": [
    {
     "name": "stdout",
     "output_type": "stream",
     "text": [
      "12.3 µs ± 78 ns per loop (mean ± std. dev. of 7 runs, 100000 loops each)\n"
     ]
    }
   ],
   "source": [
    "%timeit np.random.uniform(-90.000, 90.000, size=1500)"
   ]
  },
  {
   "cell_type": "code",
   "execution_count": 16,
   "id": "787be6d0",
   "metadata": {},
   "outputs": [
    {
     "name": "stdout",
     "output_type": "stream",
     "text": [
      "1.39 ms ± 7.62 µs per loop (mean ± std. dev. of 7 runs, 1000 loops each)\n"
     ]
    }
   ],
   "source": [
    "def latitudes(size):\n",
    "    latitudes = []\n",
    "    x = 0\n",
    "    while x < (size):\n",
    "        random_lat = random.randint(-90, 90) + random.random()\n",
    "        latitudes.append(random_lat)\n",
    "        x += 1\n",
    "    return latitudes\n",
    "# Call the function with 1500.\n",
    "%timeit latitudes(1500)"
   ]
  },
  {
   "cell_type": "code",
   "execution_count": 17,
   "id": "3985e46c",
   "metadata": {},
   "outputs": [],
   "source": [
    "# using np.random.uniform is 100 times faster than using the while function"
   ]
  },
  {
   "cell_type": "code",
   "execution_count": 20,
   "id": "e608f250",
   "metadata": {},
   "outputs": [
    {
     "name": "stdout",
     "output_type": "stream",
     "text": [
      "16.8 ns ± 0.116 ns per loop (mean ± std. dev. of 7 runs, 100000000 loops each)\n"
     ]
    }
   ],
   "source": [
    "# skill drill refactor function code to have a for loop with 1500 latitudes\n",
    "latitudes = []\n",
    "for i in range (1, 1500):\n",
    "    random_lat = random.randint(-90, 90) + random.random()\n",
    "    latitudes.append(random_lat)\n",
    "%timeit latitudes"
   ]
  },
  {
   "cell_type": "code",
   "execution_count": null,
   "id": "6b17ee57",
   "metadata": {},
   "outputs": [],
   "source": []
  }
 ],
 "metadata": {
  "kernelspec": {
   "display_name": "Python 3 (ipykernel)",
   "language": "python",
   "name": "python3"
  },
  "language_info": {
   "codemirror_mode": {
    "name": "ipython",
    "version": 3
   },
   "file_extension": ".py",
   "mimetype": "text/x-python",
   "name": "python",
   "nbconvert_exporter": "python",
   "pygments_lexer": "ipython3",
   "version": "3.7.13"
  }
 },
 "nbformat": 4,
 "nbformat_minor": 5
}
